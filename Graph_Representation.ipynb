{
  "nbformat": 4,
  "nbformat_minor": 0,
  "metadata": {
    "colab": {
      "name": "Graph Representation.ipynb",
      "provenance": [],
      "authorship_tag": "ABX9TyPSsC8yLaLgv8KJkNl0GPkw",
      "include_colab_link": true
    },
    "kernelspec": {
      "name": "python3",
      "display_name": "Python 3"
    }
  },
  "cells": [
    {
      "cell_type": "markdown",
      "metadata": {
        "id": "view-in-github",
        "colab_type": "text"
      },
      "source": [
        "<a href=\"https://colab.research.google.com/github/C3Suryansu/Graph-Algorithms/blob/master/Graph_Representation.ipynb\" target=\"_parent\"><img src=\"https://colab.research.google.com/assets/colab-badge.svg\" alt=\"Open In Colab\"/></a>"
      ]
    },
    {
      "cell_type": "markdown",
      "metadata": {
        "id": "Eq8c-DjgygG_",
        "colab_type": "text"
      },
      "source": [
        "#A python program to implement the adjacency list representation of an undirected graph."
      ]
    },
    {
      "cell_type": "code",
      "metadata": {
        "id": "Gku5sEkaytqs",
        "colab_type": "code",
        "colab": {}
      },
      "source": [
        "#First we create a class to represent the adjacent list of the node.\n",
        "# This shall take node number as input and create a linked-list type cell for connecting to next node\n",
        "\n",
        "class AdjNode:\n",
        "  def __init__(self,data):\n",
        "    self.vertex = data\n",
        "    self.next = None"
      ],
      "execution_count": 0,
      "outputs": []
    },
    {
      "cell_type": "code",
      "metadata": {
        "id": "M-Bg0VESzjzZ",
        "colab_type": "code",
        "colab": {}
      },
      "source": [
        "#A graph class to define a graph of the size equal to the vertices.\n",
        "#It will be in the form of an array/list.\n",
        "\n",
        "class Graph:\n",
        "  #defining number of vertices and an empty graph in initialized\n",
        "  def __init__(self, vertices):\n",
        "    self.V = vertices\n",
        "    self.graph = [None] * self.V\n",
        "\n",
        "  #creating an add_edge function to add the edge in the graph\n",
        "  def add_edge(self, src, dest):\n",
        "    node = AdjNode(dest)\n",
        "    node.next = self.graph[src]\n",
        "    self.graph[src] = node\n",
        "    \n",
        "  #adding src to dest node link since it is an undirected graph\n",
        "    node = AdjNode(src)\n",
        "    node.next = self.graph[dest]\n",
        "    self.graph[dest] = node\n",
        "\n",
        "  #printing the graph\n",
        "  def print_graph(self):\n",
        "    for i in range(self.V):\n",
        "      print(\"Adjacent list of vertex {} \\n\".format(i), end = \"\")\n",
        "      temp = self.graph[i]\n",
        "      while temp:\n",
        "        print(\"-> {}\".format(temp.vertex), end = \"\")\n",
        "        temp = temp.next\n",
        "      print(\"\\n\")\n"
      ],
      "execution_count": 0,
      "outputs": []
    },
    {
      "cell_type": "code",
      "metadata": {
        "id": "7916S3FC5xnq",
        "colab_type": "code",
        "colab": {
          "base_uri": "https://localhost:8080/",
          "height": 272
        },
        "outputId": "54e7f9ba-64ed-4fd2-895a-79ba88a5d5b4"
      },
      "source": [
        "#building a graph with 5 vertices and defining the nodes connections\n",
        "V = 5\n",
        "graph = Graph(V)\n",
        "graph.add_edge(0,1)\n",
        "graph.add_edge(0,2)\n",
        "graph.add_edge(1,2)\n",
        "graph.add_edge(1,3)\n",
        "graph.add_edge(1,4)\n",
        "graph.add_edge(2,3)\n",
        "graph.add_edge(3,4)\n",
        "\n",
        "graph.print_graph()"
      ],
      "execution_count": 11,
      "outputs": [
        {
          "output_type": "stream",
          "text": [
            "Adjacent list of vertex 0 \n",
            "-> 2-> 1\n",
            "\n",
            "Adjacent list of vertex 1 \n",
            "-> 4-> 3-> 2-> 0\n",
            "\n",
            "Adjacent list of vertex 2 \n",
            "-> 3-> 1-> 0\n",
            "\n",
            "Adjacent list of vertex 3 \n",
            "-> 4-> 2-> 1\n",
            "\n",
            "Adjacent list of vertex 4 \n",
            "-> 3-> 1\n",
            "\n"
          ],
          "name": "stdout"
        }
      ]
    },
    {
      "cell_type": "markdown",
      "metadata": {
        "id": "nY0HzNHE7g04",
        "colab_type": "text"
      },
      "source": [
        "\n",
        "\n",
        "*   We can variate and make it a directed graph by varying the direction of the nodes and not using the dest to src part of the add_edge function of Graph class\n",
        "\n"
      ]
    }
  ]
}