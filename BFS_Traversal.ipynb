{
  "nbformat": 4,
  "nbformat_minor": 0,
  "metadata": {
    "colab": {
      "name": "BFS Traversal.ipynb",
      "provenance": [],
      "collapsed_sections": [],
      "authorship_tag": "ABX9TyOmgqRuSf1vyj8WFM7YP9AQ",
      "include_colab_link": true
    },
    "kernelspec": {
      "name": "python3",
      "display_name": "Python 3"
    }
  },
  "cells": [
    {
      "cell_type": "markdown",
      "metadata": {
        "id": "view-in-github",
        "colab_type": "text"
      },
      "source": [
        "<a href=\"https://colab.research.google.com/github/C3Suryansu/Graph-Algorithms/blob/master/BFS_Traversal.ipynb\" target=\"_parent\"><img src=\"https://colab.research.google.com/assets/colab-badge.svg\" alt=\"Open In Colab\"/></a>"
      ]
    },
    {
      "cell_type": "markdown",
      "metadata": {
        "id": "xuDjlNJSj273",
        "colab_type": "text"
      },
      "source": [
        "#Breadth First Traversal algorithm on an undirected graph"
      ]
    },
    {
      "cell_type": "code",
      "metadata": {
        "id": "r4ltb0_ke33J",
        "colab_type": "code",
        "colab": {}
      },
      "source": [
        "#we use defaultdict instead of dictionary to prevent keyerror\n",
        "from collections import defaultdict "
      ],
      "execution_count": 0,
      "outputs": []
    },
    {
      "cell_type": "code",
      "metadata": {
        "id": "5KxmjUx8lt5O",
        "colab_type": "code",
        "colab": {}
      },
      "source": [
        "class Graph:\n",
        "\n",
        "  #Constructor\n",
        "  def __init__(self):\n",
        "    self.graph = defaultdict(list)   #initialize an empty adjacency list graph\n",
        "  \n",
        "  #add_edge function to add an edge between the given nodes in the graph\n",
        "  def add_edge(self, u, v):\n",
        "    self.graph[u].append(v)\n",
        "    self.graph[v].append(u)\n",
        "  \n",
        "  #BFS traversal of a graph\n",
        "  def BFS(self, s):\n",
        "\n",
        "    #creating a boolean array to check visited status of each node\n",
        "    visited = [False] * (len(self.graph))\n",
        "\n",
        "    #creating a queue to check each node during BFS\n",
        "    queue = []\n",
        "\n",
        "    #Marking the initial(source) node as visited = True\n",
        "    queue.append(s)\n",
        "    visited[s] = True\n",
        "\n",
        "    while queue:\n",
        "\n",
        "      #print the first element from the queue and pop/dequeue it\n",
        "      s = queue.pop(0)\n",
        "      print(s, end = \" \")\n",
        "\n",
        "      #Traverse to the nearest vertex/node in the graph and check if it's visited\n",
        "      #or not. If not visited, add it to the queue and mark it as visited\n",
        "      for i in self.graph[s]:\n",
        "        if visited[i] == False:\n",
        "          queue.append(i)\n",
        "          visited[i] = True\n"
      ],
      "execution_count": 0,
      "outputs": []
    },
    {
      "cell_type": "code",
      "metadata": {
        "id": "IgrEgR6dz_kZ",
        "colab_type": "code",
        "colab": {
          "base_uri": "https://localhost:8080/",
          "height": 34
        },
        "outputId": "84d24c78-957c-4159-98c6-fa224c45c3ad"
      },
      "source": [
        "g = Graph()\n",
        "g.add_edge(0,1)\n",
        "g.add_edge(0,2)\n",
        "g.add_edge(1,2)\n",
        "#g.add_edge(2,0)\n",
        "g.add_edge(2,3)\n",
        "#g.add_edge(3,3)\n",
        "g.add_edge(1,3)\n",
        "\n",
        "g.BFS(2)\n"
      ],
      "execution_count": 11,
      "outputs": [
        {
          "output_type": "stream",
          "text": [
            "2 0 1 3 "
          ],
          "name": "stdout"
        }
      ]
    },
    {
      "cell_type": "markdown",
      "metadata": {
        "id": "FYiSWB7-9f5Z",
        "colab_type": "text"
      },
      "source": [
        "Output is 0 1 3 after initial node since we iterate in the graph in an ascending order, the values pop out and print in that order too.\n",
        "\n",
        "Graph can be made directed by adding the 2 comment lines in the driver code and removing the last add_edge line(though it may not be required), along with commenting self.graph[v].append(u) in add_edge().\n"
      ]
    }
  ]
}