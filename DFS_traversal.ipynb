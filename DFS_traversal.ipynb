{
  "nbformat": 4,
  "nbformat_minor": 0,
  "metadata": {
    "colab": {
      "name": "DFS traversal.ipynb",
      "provenance": [],
      "authorship_tag": "ABX9TyOMLAlrvoVkA6YpVqx5n/Eq",
      "include_colab_link": true
    },
    "kernelspec": {
      "name": "python3",
      "display_name": "Python 3"
    }
  },
  "cells": [
    {
      "cell_type": "markdown",
      "metadata": {
        "id": "view-in-github",
        "colab_type": "text"
      },
      "source": [
        "<a href=\"https://colab.research.google.com/github/C3Suryansu/Graph-Algorithms/blob/master/DFS_traversal.ipynb\" target=\"_parent\"><img src=\"https://colab.research.google.com/assets/colab-badge.svg\" alt=\"Open In Colab\"/></a>"
      ]
    },
    {
      "cell_type": "markdown",
      "metadata": {
        "id": "bt6jYE2qwyg4",
        "colab_type": "text"
      },
      "source": [
        "#DFS Traversal for an undirected graph"
      ]
    },
    {
      "cell_type": "code",
      "metadata": {
        "id": "bZiJBvx7WGdI",
        "colab_type": "code",
        "colab": {}
      },
      "source": [
        "from collections import defaultdict"
      ],
      "execution_count": 0,
      "outputs": []
    },
    {
      "cell_type": "code",
      "metadata": {
        "id": "NkclwywwZoE5",
        "colab_type": "code",
        "colab": {}
      },
      "source": [
        "class Graph:\n",
        "\n",
        "  def __init__(self):\n",
        "    self.graph = defaultdict(list)\n",
        "  \n",
        "  def add_edge(self,u,v):\n",
        "    self.graph[u].append(v)\n",
        "    self.graph[v].append(u)\n",
        "  \n",
        "  def DFSUtil(self,v,visited):\n",
        "\n",
        "    #Mark current node as visited and print it\n",
        "    visited[v] = True\n",
        "    print(v, end = \" \")\n",
        "\n",
        "    #Check all the vertices adjacent to this vertex and see their branches\n",
        "    #in a recurrent way, basically go in depth for each node till a deadend,\n",
        "    #then backtrack node by node till stack is empty \n",
        "    for i in self.graph[v]:\n",
        "      if visited[i] == False:\n",
        "        self.DFSUtil(i, visited)\n",
        "    \n",
        "  #DFS Traversal function\n",
        "  def DFS(self,v):\n",
        "\n",
        "    visited = [False] * (max(self.graph) + 1)\n",
        "\n",
        "    self.DFSUtil(v,visited)\n"
      ],
      "execution_count": 0,
      "outputs": []
    },
    {
      "cell_type": "code",
      "metadata": {
        "id": "tK7Ufe4Wvxdg",
        "colab_type": "code",
        "colab": {
          "base_uri": "https://localhost:8080/",
          "height": 51
        },
        "outputId": "e66bb868-fade-41be-b741-ce362e05b6e6"
      },
      "source": [
        "g = Graph() \n",
        "g.add_edge(0, 1) \n",
        "g.add_edge(0, 2) \n",
        "g.add_edge(1, 2) \n",
        "#g.add_edge(2, 0) \n",
        "g.add_edge(2, 3) \n",
        "#g.add_edge(3, 3) \n",
        "g.add_edge(3,1)\n",
        "  \n",
        "print(\"Following is DFS from (starting from vertex 2)\") \n",
        "g.DFS(2) "
      ],
      "execution_count": 18,
      "outputs": [
        {
          "output_type": "stream",
          "text": [
            "Following is DFS from (starting from vertex 2)\n",
            "2 0 1 3 "
          ],
          "name": "stdout"
        }
      ]
    },
    {
      "cell_type": "code",
      "metadata": {
        "id": "XOeUOhMNwSxo",
        "colab_type": "code",
        "colab": {}
      },
      "source": [
        ""
      ],
      "execution_count": 0,
      "outputs": []
    }
  ]
}